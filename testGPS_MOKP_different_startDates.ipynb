{
 "cells": [
  {
   "cell_type": "markdown",
   "metadata": {
    "slideshow": {
     "slide_type": ""
    },
    "tags": []
   },
   "source": [
    "## Fig.1c-f.See Fig.1b for GPS data download. Seismicity catalogue and InSAR dispalcement timeseries for a selected point are on the github page"
   ]
  },
  {
   "cell_type": "code",
   "execution_count": 2,
   "metadata": {
    "slideshow": {
     "slide_type": ""
    },
    "tags": []
   },
   "outputs": [],
   "source": [
    "import numpy as np\n",
    "import matplotlib.pyplot as plt\n",
    "#import matplotlib.cm as cm\n",
    "import datetime\n",
    "import pandas as pd\n",
    "import matplotlib.dates as mdates\n",
    "import time\n",
    "from datetime import datetime as dt\n",
    "from IPython.core.debugger import set_trace"
   ]
  },
  {
   "cell_type": "markdown",
   "metadata": {},
   "source": [
    "## Functions to read GPS data from file and reference it to 'MKEA' station"
   ]
  },
  {
   "cell_type": "code",
   "execution_count": 3,
   "metadata": {
    "slideshow": {
     "slide_type": ""
    },
    "tags": []
   },
   "outputs": [],
   "source": [
    "def read_ref_data(time1,time2):\n",
    "    filename='./data/'+'MKEA.txt'\n",
    "    dfin = pd.read_csv(filename, header=0, delimiter=r\"\\s+\")\n",
    "    index = ['Time', 'East', 'North', 'Up']\n",
    "    dataval=pd.DataFrame(index=index)\n",
    "    dataerr=pd.DataFrame(index=index);\n",
    "    dataval=pd.concat([dfin['YYMMMDD'].rename('date'), (dfin['_e0(m)']+dfin['__east(m)']).rename('east'), (dfin['____n0(m)']+dfin['_north(m)']).rename('north'), \n",
    "                       (dfin['u0(m)']+dfin['____up(m)']).rename('up'),dfin['yyyy.yyyy'].rename('dateval')], axis=1)\n",
    "    dataerr=pd.concat([dfin['YYMMMDD'].rename('date'), \n",
    "                       dfin['sig_e(m)'], dfin['sig_n(m)'], dfin['sig_u(m)']], axis=1,ignore_index=False)\n",
    "    dataval['date']=pd.to_datetime(dataval['date'], format='%y%b%d', errors='ignore')\n",
    "    dataerr['date']=pd.to_datetime(dataval['date'], format='%y%b%d', errors='ignore')\n",
    "    time1 = pd.to_datetime(time1)\n",
    "    time2 = pd.to_datetime(time2)\n",
    "    mask= (dataval['date'] > time1) & (dataval['date'] < time2)\n",
    "    dataval=dataval[mask];\n",
    "    dataerr=dataerr[mask];\n",
    "    dataval=dataval.set_index(['date'])\n",
    "    dataval=dataval.resample('D').interpolate(method='linear')\n",
    "    dataval=dataval.reset_index()\n",
    "    return dataval\n",
    "\n",
    "def read_data(sitename,time1,time2):\n",
    "    filename='./data/'+sitename+'.txt'\n",
    "    dfin = pd.read_csv(filename, header=0, delimiter=r\"\\s+\")\n",
    "    index = ['Time', 'East', 'North', 'Up']\n",
    "\n",
    "    dataval=pd.DataFrame(index=index);dataerr=pd.DataFrame(index=index);\n",
    "    dataval=pd.concat([dfin['YYMMMDD'].rename('date'), (dfin['_e0(m)']+dfin['__east(m)']).rename('east'), (dfin['____n0(m)']+dfin['_north(m)']).rename('north'), \n",
    "                       (dfin['u0(m)']+dfin['____up(m)']).rename('up'),dfin['yyyy.yyyy'].rename('dateval')], axis=1)\n",
    "    dataerr=pd.concat([dfin['YYMMMDD'].rename('date'), dfin['sig_e(m)'], dfin['sig_n(m)'], dfin['sig_u(m)']], axis=1,ignore_index=False)\n",
    "    dataval['date']=pd.to_datetime(dataval['date'], format='%y%b%d', errors='ignore')\n",
    "    dataerr['date']=pd.to_datetime(dataval['date'], format='%y%b%d', errors='ignore')\n",
    "    time1 = pd.to_datetime(time1)\n",
    "    time2 = pd.to_datetime(time2)\n",
    "    mask= (dataval['date'] > time1) & (dataval['date'] < time2)\n",
    "    dataval=dataval[mask];dataerr=dataerr[mask];\n",
    "    #reference to MKEA\n",
    "    dataval2=read_ref_data(time1,time2)\n",
    "    merged=pd.merge(dataval,dataval2,how='inner',on=['date'])\n",
    "    merged['east']=merged['east_x']-merged['east_y'];\n",
    "    merged['north']=merged['north_x']-merged['north_y'];\n",
    "    merged['up']=merged['up_x']-merged['up_y'];\n",
    "    merged['dateval']=(merged['dateval_x']+merged['dateval_y'])*0.5\n",
    "    merged=merged[['date','east','north','up','dateval']]\n",
    "    return merged\n"
   ]
  },
  {
   "cell_type": "code",
   "execution_count": 4,
   "metadata": {
    "slideshow": {
     "slide_type": ""
    },
    "tags": []
   },
   "outputs": [],
   "source": [
    "years = mdates.YearLocator(1)   # every year\n",
    "months = mdates.MonthLocator(interval=3)  # every month\n",
    "yearsFmt = mdates.DateFormatter('%Y')\n"
   ]
  },
  {
   "cell_type": "markdown",
   "metadata": {},
   "source": [
    "## Plot figure"
   ]
  },
  {
   "cell_type": "code",
   "execution_count": 5,
   "metadata": {
    "slideshow": {
     "slide_type": ""
    },
    "tags": []
   },
   "outputs": [
    {
     "data": {
      "image/png": "[encoded data removed]",
      "text/plain": [
       "<Figure size 800x800 with 2 Axes>"
      ]
     },
     "metadata": {},
     "output_type": "display_data"
    }
   ],
   "source": [
    "x=[datetime.date(2022, 11, 27), datetime.date(2020, 6, 30)]\n",
    "x=[datetime.date(2022, 12, 6), datetime.date(2023, 6, 30)]\n",
    "\n",
    "fig, axes = plt.subplots(nrows=2, ncols=1, sharex=True,figsize=(8, 8), gridspec_kw = {'height_ratios':[0.1,1.5]});\n",
    "\n",
    "#customize axes\n",
    "fig.subplots_adjust(hspace=0.05)\n",
    "ff=20;ffti=20;\n",
    "for i in range(2):\n",
    "    axes[i].tick_params(labelsize=ff);\n",
    "    axes[i].tick_params(axis='y',length=10, width=3);axes[i].tick_params(axis='y',length=10, width=3);\n",
    "    axes[i].tick_params(which='minor',length=0, width=0);\n",
    "    axes[i].xaxis.set_major_locator(years);\n",
    "    axes[i].xaxis.set_major_formatter(yearsFmt) \n",
    "axes[0].set_yticks([0,10,20]);axes[1].set_yticks([0,10,20,30]);\n",
    "\n",
    "\n",
    "#plot GPS timeseries\n",
    "site_list=['MOKP','MLSP','SLPC','PHAN','ALAL','PAT3'];\n",
    "site_list=['MOKP'];\n",
    "time1=x[0];time2=x[1];t=0;\n",
    "for site in site_list:\n",
    "    gps_data=read_data(site,time1,time2);\n",
    "    # gps_data['up']=(gps_data['up'])*100+t; t=t+15;\n",
    "    # gps_data['north']=(gps_data['north'])*100+t;t=t+15;\n",
    "    # gps_data['east']=(gps_data['east'])*100+t; t=t+15;\n",
    "    # gps_data['horz']=(gps_data['east']*gps_data['east']+gps_data['north']*gps_data['north'])**(0.5)+t; t=t+15;\n",
    "\n",
    "    gps_data['up']=(gps_data['up']-gps_data['up'].iloc[0:10].mean())*100+t; #t=t+15;\n",
    "    gps_data['north']=(gps_data['north']-gps_data['north'].iloc[0:10].mean())*100+t; #t=t+15;\n",
    "    gps_data['east']=(gps_data['east']-gps_data['east'].iloc[0:10].mean())*100+t; #t=t+15;\n",
    "    gps_data['horz']=(gps_data['east']*gps_data['east']+gps_data['north']*gps_data['north'])**(0.5)+t; #t=t+15;\n",
    "    # axes[1].plot_date(gps_data['date'],gps_data['up'],marker='o',markersize=2.0,label=site); \n",
    "    # axes[1].plot_date(gps_data['date'],gps_data['north'],marker='o',markersize=2.0,label=site);\n",
    "    # axes[1].plot_date(gps_data['date'],gps_data['east'],marker='o',markersize=2.0,label=site);\n",
    "    axes[1].plot_date(gps_data['date'],gps_data['horz'],marker='o',markersize=2.0,label=site);\n",
    "\n",
    "# axes[1].plot_date(gps_data['date'],gps_data['horz'],marker='o',markersize=2.0,label=site);\n",
    "# axes[1].set_ylim([-2,53]);axes[1].set_yticks([10,20,30,40,50]);\n",
    "axes[1].set_ylabel('GPS Horz.(cm)',fontsize=ffti);\n",
    "lgnd=axes[1].legend(labelspacing=-2.5,fontsize=10,bbox_to_anchor=(0.31, 0.65), bbox_transform=plt.gcf().transFigure,frameon=False)\n",
    "#for handle in lgnd.legendHandles:\n",
    "#    handle._legmarker.set_markersize(6)\n",
    "# vlines=[datetime.date(2014, 1, 31),datetime.date(2015, 8, 15),datetime.date(2018, 5, 1)];\n",
    "# for i in range(len(vlines)):\n",
    "#     for j in range(2):\n",
    "#         axes[j].axvline(vlines[i],color='r',linestyle='--');\n",
    "marker=datetime.date(2017, 8, 1);\n",
    "#save plot\n",
    "#plt.savefig('Fig.1c-f_displacement_over_SeismicityRates.pdf',dpi=300,bbox_inches='tight',transparent=True)\n"
   ]
  }
 ],
 "metadata": {
  "kernelspec": {
   "display_name": "Python 3 (ipykernel)",
   "language": "python",
   "name": "python3"
  },
  "language_info": {
   "codemirror_mode": {
    "name": "ipython",
    "version": 3
   },
   "file_extension": ".py",
   "mimetype": "text/x-python",
   "name": "python",
   "nbconvert_exporter": "python",
   "pygments_lexer": "ipython3",
   "version": "3.10.12"
  }
 },
 "nbformat": 4,
 "nbformat_minor": 4
}
